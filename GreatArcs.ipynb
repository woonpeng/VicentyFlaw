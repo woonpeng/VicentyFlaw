{
 "cells": [
  {
   "cell_type": "code",
   "execution_count": 1,
   "metadata": {},
   "outputs": [],
   "source": [
    "import haversine\n",
    "import vincenty"
   ]
  },
  {
   "cell_type": "code",
   "execution_count": null,
   "metadata": {},
   "outputs": [],
   "source": []
  },
  {
   "cell_type": "markdown",
   "metadata": {},
   "source": [
    "### At first it looks like distHaversine is very close to distVincenty, the supposed 'correct' formula\n",
    "#### But wait! Isn't the earth supposed to be bulging at the equators? Why is distVincenty < distHaversine??"
   ]
  },
  {
   "cell_type": "code",
   "execution_count": 2,
   "metadata": {},
   "outputs": [],
   "source": [
    "(lat1, lng1) = (1.219872, 103.608062) # Tuas Reclamation Area\n",
    "(lat2, lng2) = (1.427722, 104.067964) # Tekong NE edge"
   ]
  },
  {
   "cell_type": "code",
   "execution_count": 3,
   "metadata": {},
   "outputs": [
    {
     "data": {
      "text/plain": [
       "56105.806000000004"
      ]
     },
     "execution_count": 3,
     "metadata": {},
     "output_type": "execute_result"
    }
   ],
   "source": [
    "distVincenty = vincenty.vincenty((lat1, lng1), (lat2, lng2)) * 1000\n",
    "distVincenty"
   ]
  },
  {
   "cell_type": "code",
   "execution_count": 4,
   "metadata": {},
   "outputs": [
    {
     "data": {
      "text/plain": [
       "56106.524246686946"
      ]
     },
     "execution_count": 4,
     "metadata": {},
     "output_type": "execute_result"
    }
   ],
   "source": [
    "distHaversine = haversine.haversine((lat1, lng1), (lat2, lng2), unit='m')\n",
    "distHaversine"
   ]
  },
  {
   "cell_type": "code",
   "execution_count": 5,
   "metadata": {},
   "outputs": [
    {
     "data": {
      "text/plain": [
       "56169.299003195716"
      ]
     },
     "execution_count": 5,
     "metadata": {},
     "output_type": "execute_result"
    }
   ],
   "source": [
    "distHaversineAdj = distHaversine / 6371.0088 * 6378.1370 # Equator correction\n",
    "distHaversineAdj"
   ]
  },
  {
   "cell_type": "code",
   "execution_count": null,
   "metadata": {},
   "outputs": [],
   "source": []
  },
  {
   "cell_type": "markdown",
   "metadata": {},
   "source": [
    "### Let me trick Vincenty function by setting lat1 = lat2"
   ]
  },
  {
   "cell_type": "code",
   "execution_count": 6,
   "metadata": {},
   "outputs": [],
   "source": [
    "(lat1, lng1) = (1.30, 103.608062) # Equilat point\n",
    "(lat2, lng2) = (1.30, 104.067964) # Equilat point"
   ]
  },
  {
   "cell_type": "code",
   "execution_count": 7,
   "metadata": {},
   "outputs": [
    {
     "data": {
      "text/plain": [
       "51182.967"
      ]
     },
     "execution_count": 7,
     "metadata": {},
     "output_type": "execute_result"
    }
   ],
   "source": [
    "distVincenty = vincenty.vincenty((lat1, lng1), (lat2, lng2)) * 1000\n",
    "distVincenty"
   ]
  },
  {
   "cell_type": "code",
   "execution_count": 8,
   "metadata": {},
   "outputs": [
    {
     "data": {
      "text/plain": [
       "51125.67705830757"
      ]
     },
     "execution_count": 8,
     "metadata": {},
     "output_type": "execute_result"
    }
   ],
   "source": [
    "distHaversine = haversine.haversine((lat1, lng1), (lat2, lng2), unit='m')\n",
    "distHaversine"
   ]
  },
  {
   "cell_type": "code",
   "execution_count": 9,
   "metadata": {},
   "outputs": [
    {
     "data": {
      "text/plain": [
       "51182.878996438165"
      ]
     },
     "execution_count": 9,
     "metadata": {},
     "output_type": "execute_result"
    }
   ],
   "source": [
    "distHaversineAdj = distHaversine / 6371.0088 * 6378.1370 # Equator correction\n",
    "distHaversineAdj"
   ]
  },
  {
   "cell_type": "markdown",
   "metadata": {},
   "source": [
    "### Suddenly Vincenty agrees with my adjusted Haversine?\n",
    "#### Whats going on?! If you dig in, Vincenty formula is quite unstable around the equator, especially when deltaLat is small. However, it handles the case of deltaLat = 0 differently.\n",
    "#### https://www.movable-type.co.uk/scripts/latlong-vincenty.html"
   ]
  },
  {
   "cell_type": "code",
   "execution_count": null,
   "metadata": {},
   "outputs": [],
   "source": []
  },
  {
   "cell_type": "code",
   "execution_count": 10,
   "metadata": {},
   "outputs": [],
   "source": [
    "# \"\"\"\n",
    "# pi = pi\n",
    "# R = 6378.1370 (Radius in km at the EQUATOR)\n",
    "# sqrt -> square root of argument\n",
    "\n",
    "# position1 = (lat1, lng1) in (Degree, Degree)\n",
    "# position1 = (lat2, lng2) in (Degree, Degree)\n",
    "\n",
    "# rad_lat1 = lat1 * pi / 180\n",
    "# rad_lat2 = lat2 * pi / 180\n",
    "# rad_lng1 = lng1 * pi / 180\n",
    "# rad_lng2 = lng2 * pi / 180\n",
    "\n",
    "# sin(x) -> input x in radians, output number value\n",
    "# cos(y) -> input y in radians, output number value\n",
    "# arcsin(z) -> input z in number value, output radians\n",
    "\n",
    "# d (in meters) =\n",
    "# 1000 * 2 * R * arcsin( sqrt((sin( (rad_lat2-rad_lat1)/2) )**2 + cos(rad_lat1)*cos(rad_lat2)*(sin( (rad_lng2-rad_lng1)/2) )**2) )\n",
    "# \"\"\""
   ]
  },
  {
   "cell_type": "code",
   "execution_count": 11,
   "metadata": {},
   "outputs": [
    {
     "data": {
      "text/plain": [
       "56169.29900319442"
      ]
     },
     "execution_count": 11,
     "metadata": {},
     "output_type": "execute_result"
    }
   ],
   "source": [
    "import numpy as np\n",
    "\n",
    "pi = np.pi\n",
    "R = 6378.1370\n",
    "\n",
    "sin = np.sin\n",
    "cos = np.cos\n",
    "arcsin = np.arcsin\n",
    "sqrt = np.sqrt\n",
    "\n",
    "(lat1, lng1) = (1.219872, 103.608062) # Tuas Reclamation Area\n",
    "(lat2, lng2) = (1.427722, 104.067964) # Tekong NE edge\n",
    "\n",
    "rad_lat1 = lat1 * pi / 180\n",
    "rad_lat2 = lat2 * pi / 180\n",
    "rad_lng1 = lng1 * pi / 180\n",
    "rad_lng2 = lng2 * pi / 180\n",
    "\n",
    "1000 * 2 * R * arcsin( sqrt((sin( (rad_lat2-rad_lat1)/2) )**2 + cos(rad_lat1)*cos(rad_lat2)*(sin( (rad_lng2-rad_lng1)/2) )**2) )"
   ]
  },
  {
   "cell_type": "code",
   "execution_count": null,
   "metadata": {},
   "outputs": [],
   "source": []
  }
 ],
 "metadata": {
  "kernelspec": {
   "display_name": "Python 3",
   "language": "python",
   "name": "python3"
  },
  "language_info": {
   "codemirror_mode": {
    "name": "ipython",
    "version": 3
   },
   "file_extension": ".py",
   "mimetype": "text/x-python",
   "name": "python",
   "nbconvert_exporter": "python",
   "pygments_lexer": "ipython3",
   "version": "3.6.7"
  }
 },
 "nbformat": 4,
 "nbformat_minor": 2
}
